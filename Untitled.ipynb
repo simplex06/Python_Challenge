{
 "cells": [
  {
   "cell_type": "code",
   "execution_count": 1,
   "metadata": {},
   "outputs": [
    {
     "data": {
      "text/plain": [
       "9"
      ]
     },
     "execution_count": 1,
     "metadata": {},
     "output_type": "execute_result"
    }
   ],
   "source": [
    "def word(matrix, word):\n",
    "    ilk = word[0]\n",
    "    for i in range(len(matrix)):\n",
    "        if matrix(i) == ilk:\n",
    "            if \"\".join(matrix[i:i+len(word)]) == word:\n",
    "                return True\n",
    "            elif \"\".join(matrix[i])\n",
    "            \n"
   ]
  },
  {
   "cell_type": "code",
   "execution_count": 3,
   "metadata": {},
   "outputs": [
    {
     "name": "stdout",
     "output_type": "stream",
     "text": [
      "9413\n"
     ]
    }
   ],
   "source": [
    "import random\n",
    "n = random.randint(1000, 9999)\n",
    "print(n)"
   ]
  },
  {
   "cell_type": "code",
   "execution_count": 66,
   "metadata": {},
   "outputs": [
    {
     "name": "stdout",
     "output_type": "stream",
     "text": [
      "<class 'int'>\n",
      "9567\n",
      "urr9567\n",
      "urr9567\n"
     ]
    }
   ],
   "source": [
    "abc = ''\n",
    "\n",
    "import random\n",
    "n = random.randint(1000, 10000)\n",
    "#r = str(n)\n",
    "print(type(n))\n",
    "print(n)\n",
    "\n",
    "for i in range(3):\n",
    "    random_letter = random.choice(\"markrutte\")\n",
    "    abc = abc+ random_letter\n",
    "\n",
    "p = '%s%s' %(abc,n)\n",
    "\n",
    "print(p)\n",
    "print(f'{abc}{n}')"
   ]
  },
  {
   "cell_type": "code",
   "execution_count": 70,
   "metadata": {},
   "outputs": [
    {
     "name": "stdout",
     "output_type": "stream",
     "text": [
      "ake8401\n",
      "ara5950\n"
     ]
    }
   ],
   "source": [
    "import random\n",
    "\n",
    "def password():\n",
    "    abc = ''    \n",
    "    n = random.randint(1000, 10000)\n",
    "    #r = str(n)\n",
    "    #print(type(n))\n",
    "    #print(n)\n",
    "\n",
    "    for i in range(3):\n",
    "        random_letter = random.choice(\"markrutte\")\n",
    "        abc = abc+ random_letter\n",
    "    p = '%s%s' %(abc,n)\n",
    "\n",
    "    return p \n",
    "\n",
    "print(password())\n",
    "print(password())\n"
   ]
  },
  {
   "cell_type": "code",
   "execution_count": 4,
   "metadata": {},
   "outputs": [
    {
     "name": "stdout",
     "output_type": "stream",
     "text": [
      "hello  apple\n"
     ]
    }
   ],
   "source": [
    "sentence = ' hello  apple  '\n",
    "print(sentence.strip())"
   ]
  },
  {
   "cell_type": "code",
   "execution_count": 8,
   "metadata": {},
   "outputs": [
    {
     "name": "stdout",
     "output_type": "stream",
     "text": [
      "Please enter your full name: AhmetYilmaz\n",
      "maa7960\n"
     ]
    }
   ],
   "source": [
    "name = input(\"Please enter your full name: \").lower().replace(\" \", \"\")\n",
    "\n",
    "p_lst = []\n",
    "\n",
    "import random\n",
    "n = str(random.randint(1000, 10000))\n",
    "\n",
    "for i in range(3):\n",
    "    random_letter = random.choice(name)\n",
    "    p_lst.append(random_letter)\n",
    "\n",
    "password = ''.join(p_lst) + n\n",
    "\n",
    "print(password)"
   ]
  },
  {
   "cell_type": "code",
   "execution_count": 7,
   "metadata": {},
   "outputs": [],
   "source": [
    "import numpy as np\n",
    "def rand_func(n):\n",
    "    return int(np.random.choice(range(1,n+1), 1))"
   ]
  },
  {
   "cell_type": "code",
   "execution_count": 10,
   "metadata": {},
   "outputs": [
    {
     "data": {
      "text/plain": [
       "1"
      ]
     },
     "execution_count": 10,
     "metadata": {},
     "output_type": "execute_result"
    }
   ],
   "source": [
    "rand_func(7)"
   ]
  },
  {
   "cell_type": "code",
   "execution_count": 23,
   "metadata": {},
   "outputs": [],
   "source": [
    "def rand_int(n):\n",
    "    import random\n",
    "    return random.randint(1, n)"
   ]
  },
  {
   "cell_type": "code",
   "execution_count": 31,
   "metadata": {},
   "outputs": [
    {
     "data": {
      "text/plain": [
       "4"
      ]
     },
     "execution_count": 31,
     "metadata": {},
     "output_type": "execute_result"
    }
   ],
   "source": [
    "rand_int(7)"
   ]
  },
  {
   "cell_type": "code",
   "execution_count": 5,
   "metadata": {},
   "outputs": [],
   "source": [
    "def check(x,y,b):\n",
    "    return x*b | y*(1-b)"
   ]
  },
  {
   "cell_type": "code",
   "execution_count": 7,
   "metadata": {},
   "outputs": [
    {
     "data": {
      "text/plain": [
       "2"
      ]
     },
     "execution_count": 7,
     "metadata": {},
     "output_type": "execute_result"
    }
   ],
   "source": [
    "check(2, 9, 1)"
   ]
  },
  {
   "cell_type": "code",
   "execution_count": 1,
   "metadata": {},
   "outputs": [],
   "source": [
    "def f(text):\n",
    "    while text != text.replace('()', ''):\n",
    "        text=text.replace('()', '')\n",
    "    return len(text)"
   ]
  },
  {
   "cell_type": "code",
   "execution_count": 3,
   "metadata": {},
   "outputs": [
    {
     "data": {
      "text/plain": [
       "2"
      ]
     },
     "execution_count": 3,
     "metadata": {},
     "output_type": "execute_result"
    }
   ],
   "source": [
    "f(\"()())(\")"
   ]
  },
  {
   "cell_type": "code",
   "execution_count": 10,
   "metadata": {},
   "outputs": [
    {
     "name": "stdout",
     "output_type": "stream",
     "text": [
      "Please enter your full name: ali turk\n",
      "kia4522\n"
     ]
    }
   ],
   "source": [
    "name = input(\"Please enter your full name: \").lower().replace(\" \", \"\")\n",
    "\n",
    "import random\n",
    "n = str(random.randint(1000, 10000))\n",
    "random_letter = random.sample(name, 3)\n",
    "   \n",
    "password = ''.join(random_letter) + n\n",
    "\n",
    "print(password)"
   ]
  },
  {
   "cell_type": "code",
   "execution_count": 11,
   "metadata": {},
   "outputs": [
    {
     "name": "stdout",
     "output_type": "stream",
     "text": [
      "Please enter a string : Rfee\n",
      "Positive\n"
     ]
    }
   ],
   "source": [
    "list_string = list(input(\"Please enter a string : \"))\n",
    "vowels = [\"a\", \"e\", \"i\", \"o\", \"u\"]\n",
    "\n",
    "a = len(list_string)\n",
    "x = 0\n",
    "for i in list_string:\n",
    "    x += 1\n",
    "    if x < a :\n",
    "        if i in vowels: \n",
    "            if list_string[x] in vowels:\n",
    "                \n",
    "                print(\"Positive\")\n",
    "                break\n",
    "    else:        \n",
    "        print(\"Negative\")"
   ]
  },
  {
   "cell_type": "code",
   "execution_count": 12,
   "metadata": {},
   "outputs": [
    {
     "name": "stdout",
     "output_type": "stream",
     "text": [
      "Please enter a string: Wqyudaasaae\n",
      "Positive\n",
      "[['a', 'a'], ['a', 'a'], ['a', 'e']]\n"
     ]
    }
   ],
   "source": [
    "# Python Challange / cc-007-check-consecutive-vowels\n",
    "string = list(input(\"Please enter a string: \").lower())\n",
    "vowels = [\"a\", \"e\", \"i\", \"o\", \"u\"]\n",
    "lst = []\n",
    "for i in range(1, len(string)):\n",
    "    if string[i] in vowels:\n",
    "        if string[i-1] in vowels:\n",
    "            lst.append([string[i-1], string[i]])\n",
    "\n",
    "if len(lst)!= 0:\n",
    "    print(\"Positive\")\n",
    "else:\n",
    "    print(\"Negative\")\n",
    "print(lst)        \n",
    "        "
   ]
  },
  {
   "cell_type": "code",
   "execution_count": 37,
   "metadata": {},
   "outputs": [
    {
     "name": "stdout",
     "output_type": "stream",
     "text": [
      "Please enter a string: Aertyuio\n",
      "Positive\n",
      "Positive\n",
      "[['a', 'e'], ['u', 'i'], ['i', 'o']]\n"
     ]
    }
   ],
   "source": [
    "# Python Challange / cc-007-check-consecutive-vowels\n",
    "str = list(input(\"Please enter a string: \").lower())\n",
    "vowels = [\"a\", \"e\", \"i\", \"o\", \"u\"]\n",
    "\n",
    "\n",
    "lst = [[str[i-1], str[i]] for i in range(1, len(str)) if str[i] in vowels if str[i-1] in vowels]\n",
    "\n",
    "print(f\"{'Positive'}\" * (len(lst)!= 0)  + f\"{'Negative'}\" * (len(lst) == 0))\n",
    "\n",
    "if len(lst)!= 0:\n",
    "    print(\"Positive\")\n",
    "else:\n",
    "    print(\"Negative\")\n",
    "print(lst)     "
   ]
  },
  {
   "cell_type": "code",
   "execution_count": 13,
   "metadata": {},
   "outputs": [
    {
     "name": "stdout",
     "output_type": "stream",
     "text": [
      "['abc', 'acb', 'bac', 'bca', 'cab', 'cba']\n"
     ]
    }
   ],
   "source": [
    "#This is an interview question asked by Microsoft.\n",
    "#Given a number in the form of a list of digits, return all possible permutations without using any permutation function/method of any library, such as itertools.permutations.\n",
    "#For example, given [1,2,3], return [[1,2,3],[1,3,2],[2,1,3],[2,3,1],[3,1,2],[3,2,1]].\n",
    "\n",
    "data = [\"a\", \"b\", \"c\"]\n",
    "res=[\"\"]\n",
    "for i in data:      #burada i index gibi kullanilmis.\n",
    "    res=[j+k for j in res for k in data if k not in j]\n",
    "print(res)"
   ]
  },
  {
   "cell_type": "code",
   "execution_count": 31,
   "metadata": {},
   "outputs": [
    {
     "name": "stdout",
     "output_type": "stream",
     "text": [
      "{'abc', 'cab', 'acb', 'cba', 'bca', 'bac'}\n",
      "6\n"
     ]
    }
   ],
   "source": [
    "data = [\"a\", \"b\", \"c\"]\n",
    "res=[\"\"]\n",
    "for j in res:\n",
    "    for k in data:\n",
    "        if k not in j:\n",
    "            res.append(j+k)\n",
    "res=set([i for i in res if len(i)==len(data)])\n",
    "print(res, len(res), sep=\"\\n\")"
   ]
  },
  {
   "cell_type": "code",
   "execution_count": 22,
   "metadata": {},
   "outputs": [
    {
     "name": "stdout",
     "output_type": "stream",
     "text": [
      "To Kill a Mockingbird\n",
      "In Cold Blood\n",
      "Wide Sargasso Sea\n",
      "I Capture The Castle\n"
     ]
    }
   ],
   "source": [
    "products = [\"Pride and Prejudice\", \"To Kill a Mockingbird\", \"The Great Gatsby\",\\\n",
    "\"One Hundred Years of Solitude\", \"Pride and Prejudice\", \"In Cold Blood\", \"Wide Sargasso Sea\",\\\n",
    "\"One Hundred Years of Solitude\", \"Brave New World\",  \"The Great Gatsby\", \"Brave New World\",\\\n",
    "\"I Capture The Castle\", \"Brave New World\", \"The Great Gatsby\", \"The Great Gatsby\",\\\n",
    "\"One Hundred Years of Solitude\", \"Pride and Prejudice\"]\n",
    "\n",
    "dic = {i: products.count(i) for i in products}\n",
    "\n",
    "for key, value in dic.items():\n",
    "    if dic[key] == 1:\n",
    "        print(key)"
   ]
  },
  {
   "cell_type": "code",
   "execution_count": 23,
   "metadata": {},
   "outputs": [
    {
     "name": "stdout",
     "output_type": "stream",
     "text": [
      "To Kill a Mockingbird\n",
      "In Cold Blood\n",
      "Wide Sargasso Sea\n",
      "I Capture The Castle\n"
     ]
    }
   ],
   "source": [
    "for i in products:\n",
    "    if products.count(i) == 1:\n",
    "        print(i)"
   ]
  },
  {
   "cell_type": "code",
   "execution_count": 6,
   "metadata": {},
   "outputs": [
    {
     "name": "stdout",
     "output_type": "stream",
     "text": [
      "hello\n"
     ]
    }
   ],
   "source": [
    "print('hello')"
   ]
  },
  {
   "cell_type": "code",
   "execution_count": 1,
   "metadata": {},
   "outputs": [
    {
     "name": "stdout",
     "output_type": "stream",
     "text": [
      "Let's start the game\n",
      "Please enter your weapon (Rock, Paper, Scissors):  rock\n",
      "rock beats scissors - user wins\n",
      "Please enter your weapon (Rock, Paper, Scissors):  rock\n",
      "tie - no one wins\n",
      "Please enter your weapon (Rock, Paper, Scissors):  rock\n",
      "rock beats scissors - user wins\n",
      "Please enter your weapon (Rock, Paper, Scissors):  rock\n",
      "tie - no one wins\n",
      "Please enter your weapon (Rock, Paper, Scissors):  rock\n",
      "rock beats scissors - user wins\n",
      "\n",
      "User won 3 time(s) and computer won 0 time(s)\n",
      "\n",
      "and the winner is \n",
      "\u001b[5m\u001b[31m\n",
      "User has won the game!\u001b[0m\n"
     ]
    }
   ],
   "source": [
    "from random import randint\n",
    "#import time\n",
    "from termcolor import colored, cprint\n",
    "import winsound\n",
    "\n",
    "print(\"Let's start the game\")\n",
    "\n",
    "lst = ['rock', 'paper', 'scissors']\n",
    "\n",
    "computer_score = 0\n",
    "user_score = 0\n",
    "\n",
    "while True:\n",
    "    if computer_score == 3 or user_score == 3:\n",
    "        break\n",
    "    \n",
    "    computer = lst[randint(0,2)]\n",
    "    \n",
    "    user = input(\"Please enter your weapon (Rock, Paper, Scissors):  \").lower()\n",
    "\n",
    "    if computer == user:\n",
    "        print(\"tie - no one wins\")\n",
    "    \n",
    "    elif user == \"rock\":\n",
    "        if computer == \"paper\":\n",
    "            print(\"paper beats rock - computer wins\")\n",
    "            computer_score += 1\n",
    "        else:\n",
    "            print(\"rock beats scissors - user wins\")\n",
    "            user_score += 1\n",
    "\n",
    "    elif user == \"paper\":\n",
    "        if computer == \"scissors\":\n",
    "            print(\"scissors beats paper - computer wins\")\n",
    "            computer_score += 1\n",
    "        else:\n",
    "            print(\"paper beats rock - user wins\")\n",
    "            user_score += 1\n",
    "\n",
    "    elif user == \"scissors\":\n",
    "        if computer == \"rock\":\n",
    "            print(\"rock beats scissors - computer wins\")\n",
    "            computer_score += 1\n",
    "        else:\n",
    "            print(\"scissors beats paper - user wins\")\n",
    "            user_score += 1\n",
    "            \n",
    "    else:\n",
    "            print(\"That's not a valid input.\")\n",
    "                  \n",
    "print(f\"\\nUser won {user_score}\" + time(s) and computer won {computer_score} time(s)\")\n",
    "if computer_score == 3:\n",
    "    print(\"\\nand the winner is \")\n",
    "    #time.sleep(5)\n",
    "    winsound.Beep(99, 9999)\n",
    "    #print(\"\\nComputer has won the game!\")\n",
    "    cprint('\\nComputer has won the game!', 'red', attrs=['blink'])\n",
    "else:\n",
    "    print(\"\\nand the winner is \")\n",
    "    #time.sleep(5)\n",
    "    winsound.Beep(99, 9999)\n",
    "    #print(\"\\nUser has won the game!\")\n",
    "    cprint('\\nUser has won the game!', 'red', attrs=['blink'])        "
   ]
  },
  {
   "cell_type": "code",
   "execution_count": 5,
   "metadata": {},
   "outputs": [],
   "source": [
    "import winsound\n",
    "for i in range(1):\n",
    "    winsound.PlaySound('sound.wav', winsound.SND_FILENAME)"
   ]
  },
  {
   "cell_type": "code",
   "execution_count": 31,
   "metadata": {},
   "outputs": [
    {
     "name": "stdout",
     "output_type": "stream",
     "text": [
      "\u001b[5m\u001b[31m\n",
      "James Everleigh\u001b[0m\n"
     ]
    }
   ],
   "source": [
    "from termcolor import colored, cprint\n",
    "cprint('\\nJames Everleigh', 'red', attrs=['blink'])"
   ]
  },
  {
   "cell_type": "code",
   "execution_count": 16,
   "metadata": {},
   "outputs": [],
   "source": [
    "def drawbox():\n",
    "    a = int(input(\"Please enter the side length of the box: \"))\n",
    "    for i in range(a):\n",
    "        if i == 0 or i == a-1:\n",
    "            print(a*\"#\")\n",
    "        else:\n",
    "            print(\"#\" + \" \"*(a-2) + \"#\")"
   ]
  },
  {
   "cell_type": "code",
   "execution_count": 18,
   "metadata": {},
   "outputs": [
    {
     "name": "stdout",
     "output_type": "stream",
     "text": [
      "Please enter the side length of the box: 8\n",
      "########\n",
      "#      #\n",
      "#      #\n",
      "#      #\n",
      "#      #\n",
      "#      #\n",
      "#      #\n",
      "########\n"
     ]
    }
   ],
   "source": [
    "drawbox()"
   ]
  },
  {
   "cell_type": "code",
   "execution_count": 9,
   "metadata": {},
   "outputs": [
    {
     "name": "stdout",
     "output_type": "stream",
     "text": [
      "None\n",
      "1None\n",
      "2\n"
     ]
    }
   ],
   "source": [
    "x = [9, 8, 2]\n",
    "y = x.remove(2)\n",
    "print(y)\n",
    "z = print(1, end=\"\")\n",
    "print(z)\n",
    "if y or z:\n",
    "    print(1)\n",
    "else:\n",
    "    print(2)"
   ]
  },
  {
   "cell_type": "code",
   "execution_count": 13,
   "metadata": {},
   "outputs": [],
   "source": [
    "def majority_vote(vote_list):\n",
    "    dict = {}\n",
    "    for i in vote_list:\n",
    "        dict[i] = vote_list.count(i)\n",
    "    return i, max(dict.values())\n",
    "        "
   ]
  },
  {
   "cell_type": "code",
   "execution_count": 14,
   "metadata": {},
   "outputs": [
    {
     "data": {
      "text/plain": [
       "('A', 4)"
      ]
     },
     "execution_count": 14,
     "metadata": {},
     "output_type": "execute_result"
    }
   ],
   "source": [
    "majority_vote([\"A\", \"A\", \"A\", \"B\", \"C\", \"A\"])"
   ]
  },
  {
   "cell_type": "code",
   "execution_count": 7,
   "metadata": {},
   "outputs": [],
   "source": [
    "def most_frequent(List): \n",
    "    return max(set(List), key = List.count) "
   ]
  },
  {
   "cell_type": "code",
   "execution_count": 8,
   "metadata": {},
   "outputs": [
    {
     "data": {
      "text/plain": [
       "'A'"
      ]
     },
     "execution_count": 8,
     "metadata": {},
     "output_type": "execute_result"
    }
   ],
   "source": [
    "most_frequent([\"A\", \"A\", \"A\", \"B\", \"C\", \"A\"])"
   ]
  },
  {
   "cell_type": "code",
   "execution_count": 10,
   "metadata": {},
   "outputs": [],
   "source": [
    "def final_direction(startpoint, rotations):\n",
    "    directions = [\"N\", \"E\", \"S\", \"W\"]     \n",
    "    counter = 0\n",
    "    for i in rotations: \n",
    "        if i == \"R\":\n",
    "            counter += 1\n",
    "        else:\n",
    "            counter -= 1\n",
    "    index_number = (counter + directions.index(startpoint)) % 4\n",
    "    endpoint = directions[index_number]\n",
    "    return endpoint "
   ]
  },
  {
   "cell_type": "code",
   "execution_count": 11,
   "metadata": {},
   "outputs": [
    {
     "data": {
      "text/plain": [
       "'W'"
      ]
     },
     "execution_count": 11,
     "metadata": {},
     "output_type": "execute_result"
    }
   ],
   "source": [
    "final_direction(\"E\", [\"R\", \"R\", \"R\", \"R\", \"R\", \"R\"])"
   ]
  },
  {
   "cell_type": "code",
   "execution_count": 37,
   "metadata": {},
   "outputs": [],
   "source": [
    "def fibonacci():\n",
    "    n = int(input(\"How many fibonacci numbers would you like to generate? \"))\n",
    "    i = 1\n",
    "    fib = []\n",
    "    if n == 1:\n",
    "        fib = [1]\n",
    "    elif n == 2:\n",
    "        fib = [1, 1]\n",
    "    elif n > 2:\n",
    "        fib = [1, 1]\n",
    "        while i < n-1:\n",
    "            fib.append(fib[i] + fib[i-1])\n",
    "            i += 1\n",
    "    return fib"
   ]
  },
  {
   "cell_type": "code",
   "execution_count": 40,
   "metadata": {},
   "outputs": [
    {
     "name": "stdout",
     "output_type": "stream",
     "text": [
      "How many fibonacci numbers would you like to generate? 6\n"
     ]
    },
    {
     "data": {
      "text/plain": [
       "[1, 1, 2, 3, 5, 8]"
      ]
     },
     "execution_count": 40,
     "metadata": {},
     "output_type": "execute_result"
    }
   ],
   "source": [
    "fibonacci()"
   ]
  },
  {
   "cell_type": "code",
   "execution_count": null,
   "metadata": {},
   "outputs": [],
   "source": []
  },
  {
   "cell_type": "code",
   "execution_count": null,
   "metadata": {},
   "outputs": [],
   "source": []
  },
  {
   "cell_type": "code",
   "execution_count": null,
   "metadata": {},
   "outputs": [],
   "source": []
  }
 ],
 "metadata": {
  "kernelspec": {
   "display_name": "Python 3.8.5 64-bit",
   "language": "python",
   "name": "python38564bitbc21aa13782b40148ac14d39499123d2"
  },
  "language_info": {
   "codemirror_mode": {
    "name": "ipython",
    "version": 3
   },
   "file_extension": ".py",
   "mimetype": "text/x-python",
   "name": "python",
   "nbconvert_exporter": "python",
   "pygments_lexer": "ipython3",
   "version": "3.8.5"
  }
 },
 "nbformat": 4,
 "nbformat_minor": 4
}
